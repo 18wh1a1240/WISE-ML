{
  "nbformat": 4,
  "nbformat_minor": 0,
  "metadata": {
    "colab": {
      "name": "IntroductiontoPandas2.ipynb",
      "provenance": [],
      "collapsed_sections": [],
      "include_colab_link": true
    },
    "kernelspec": {
      "name": "python3",
      "display_name": "Python 3"
    },
    "accelerator": "GPU"
  },
  "cells": [
    {
      "cell_type": "markdown",
      "metadata": {
        "id": "view-in-github",
        "colab_type": "text"
      },
      "source": [
        "<a href=\"https://colab.research.google.com/github/18wh1a1240/WISE-ML/blob/main/IntroductiontoPandas2.ipynb\" target=\"_parent\"><img src=\"https://colab.research.google.com/assets/colab-badge.svg\" alt=\"Open In Colab\"/></a>"
      ]
    },
    {
      "cell_type": "markdown",
      "metadata": {
        "id": "S1WzLof2BcLn"
      },
      "source": [
        "# Objectives\n",
        "\n",
        "At the end of the experiment you will able to\n",
        "\n",
        "* perform data cleaning, manipulation and pre-processing using Pandas"
      ]
    },
    {
      "cell_type": "markdown",
      "metadata": {
        "id": "GHx209vkCRGY"
      },
      "source": [
        "## Dataset\n",
        "\n",
        "In this Experiment you will be using movies dataset. The dataset contains 77 rows and 8 columns. The columns are as follows:\n",
        "\n",
        "* Film\n",
        "* Genre\n",
        "     - Romance, Comedy, Drama, Animation, Fantasy, Action\n",
        "* Lead Studio\n",
        "* Audience score in percentage\n",
        "* Profitability\n",
        "* Rotten Tomatoes in percentage\n",
        "* Worldwide Gross\n",
        "* Year"
      ]
    },
    {
      "cell_type": "markdown",
      "metadata": {
        "id": "7A64kE6zEPb6"
      },
      "source": [
        "## Features of Pandas\n",
        "\n",
        "* Fast and efficient DataFrame object with default and customized indexing.\n",
        "* Tools for loading data into in-memory data objects from different file formats.\n",
        "* Data alignment and integrated handling of missing data.\n",
        "* Reshaping and pivoting of date sets.\n",
        "* Label-based slicing, indexing and subsetting of large data sets.\n",
        "* Columns from a data structure can be deleted or inserted.\n",
        "* Group by data for aggregation and transformations.\n",
        "* High performance merging and joining of data.\n",
        "* Time Series functionality.\n",
        "\n",
        "Now it is time to work on practicals. Following Are the given Exercise:"
      ]
    },
    {
      "cell_type": "markdown",
      "metadata": {
        "id": "T0yaZ0r72DDi"
      },
      "source": [
        "## Run the below code cell to download the movies data"
      ]
    },
    {
      "cell_type": "code",
      "metadata": {
        "id": "E1cwBNxo1RPU",
        "colab": {
          "base_uri": "https://localhost:8080/"
        },
        "outputId": "c3b385b7-e769-46ad-cb4f-f1ec421eb277"
      },
      "source": [
        "!wget https://cdn.talentsprint.com/aiml/movies.csv"
      ],
      "execution_count": 2,
      "outputs": [
        {
          "output_type": "stream",
          "text": [
            "--2021-05-16 16:42:29--  https://cdn.talentsprint.com/aiml/movies.csv\n",
            "Resolving cdn.talentsprint.com (cdn.talentsprint.com)... 172.105.34.236\n",
            "Connecting to cdn.talentsprint.com (cdn.talentsprint.com)|172.105.34.236|:443... connected.\n",
            "HTTP request sent, awaiting response... 200 OK\n",
            "Length: 5074 (5.0K) [application/octet-stream]\n",
            "Saving to: ‘movies.csv’\n",
            "\n",
            "movies.csv          100%[===================>]   4.96K  --.-KB/s    in 0s      \n",
            "\n",
            "2021-05-16 16:42:30 (525 MB/s) - ‘movies.csv’ saved [5074/5074]\n",
            "\n"
          ],
          "name": "stdout"
        }
      ]
    },
    {
      "cell_type": "code",
      "metadata": {
        "id": "2jTSLqT4EHSk"
      },
      "source": [
        "import pandas as pd"
      ],
      "execution_count": 3,
      "outputs": []
    },
    {
      "cell_type": "code",
      "metadata": {
        "id": "OjI4lOVmERN5"
      },
      "source": [
        "moviesdata = pd.read_csv(\"movies.csv\")"
      ],
      "execution_count": 4,
      "outputs": []
    },
    {
      "cell_type": "code",
      "metadata": {
        "id": "Cz3cDaw2F_Fb",
        "colab": {
          "base_uri": "https://localhost:8080/",
          "height": 204
        },
        "outputId": "a19dcd48-92f9-4b6f-c4cd-eda6a65bd8e3"
      },
      "source": [
        "moviesdata.head()"
      ],
      "execution_count": 5,
      "outputs": [
        {
          "output_type": "execute_result",
          "data": {
            "text/html": [
              "<div>\n",
              "<style scoped>\n",
              "    .dataframe tbody tr th:only-of-type {\n",
              "        vertical-align: middle;\n",
              "    }\n",
              "\n",
              "    .dataframe tbody tr th {\n",
              "        vertical-align: top;\n",
              "    }\n",
              "\n",
              "    .dataframe thead th {\n",
              "        text-align: right;\n",
              "    }\n",
              "</style>\n",
              "<table border=\"1\" class=\"dataframe\">\n",
              "  <thead>\n",
              "    <tr style=\"text-align: right;\">\n",
              "      <th></th>\n",
              "      <th>Film</th>\n",
              "      <th>Genre</th>\n",
              "      <th>Lead Studio</th>\n",
              "      <th>Audience score %</th>\n",
              "      <th>Profitability</th>\n",
              "      <th>Rotten Tomatoes %</th>\n",
              "      <th>Worldwide Gross</th>\n",
              "      <th>Year</th>\n",
              "    </tr>\n",
              "  </thead>\n",
              "  <tbody>\n",
              "    <tr>\n",
              "      <th>0</th>\n",
              "      <td>Zack and Miri Make a Porno</td>\n",
              "      <td>Romance</td>\n",
              "      <td>The Weinstein Company</td>\n",
              "      <td>70</td>\n",
              "      <td>1.747542</td>\n",
              "      <td>64</td>\n",
              "      <td>$41.94</td>\n",
              "      <td>2008</td>\n",
              "    </tr>\n",
              "    <tr>\n",
              "      <th>1</th>\n",
              "      <td>Youth in Revolt</td>\n",
              "      <td>Comedy</td>\n",
              "      <td>The Weinstein Company</td>\n",
              "      <td>52</td>\n",
              "      <td>1.090000</td>\n",
              "      <td>68</td>\n",
              "      <td>$19.62</td>\n",
              "      <td>2010</td>\n",
              "    </tr>\n",
              "    <tr>\n",
              "      <th>2</th>\n",
              "      <td>You Will Meet a Tall Dark Stranger</td>\n",
              "      <td>Comedy</td>\n",
              "      <td>Independent</td>\n",
              "      <td>35</td>\n",
              "      <td>1.211818</td>\n",
              "      <td>43</td>\n",
              "      <td>$26.66</td>\n",
              "      <td>2010</td>\n",
              "    </tr>\n",
              "    <tr>\n",
              "      <th>3</th>\n",
              "      <td>When in Rome</td>\n",
              "      <td>Comedy</td>\n",
              "      <td>Disney</td>\n",
              "      <td>44</td>\n",
              "      <td>0.000000</td>\n",
              "      <td>15</td>\n",
              "      <td>$43.04</td>\n",
              "      <td>2010</td>\n",
              "    </tr>\n",
              "    <tr>\n",
              "      <th>4</th>\n",
              "      <td>What Happens in Vegas</td>\n",
              "      <td>Comedy</td>\n",
              "      <td>Fox</td>\n",
              "      <td>72</td>\n",
              "      <td>6.267647</td>\n",
              "      <td>28</td>\n",
              "      <td>$219.37</td>\n",
              "      <td>2008</td>\n",
              "    </tr>\n",
              "  </tbody>\n",
              "</table>\n",
              "</div>"
            ],
            "text/plain": [
              "                                 Film    Genre  ... Worldwide Gross  Year\n",
              "0          Zack and Miri Make a Porno  Romance  ...         $41.94   2008\n",
              "1                     Youth in Revolt   Comedy  ...         $19.62   2010\n",
              "2  You Will Meet a Tall Dark Stranger   Comedy  ...         $26.66   2010\n",
              "3                        When in Rome   Comedy  ...         $43.04   2010\n",
              "4               What Happens in Vegas   Comedy  ...        $219.37   2008\n",
              "\n",
              "[5 rows x 8 columns]"
            ]
          },
          "metadata": {
            "tags": []
          },
          "execution_count": 5
        }
      ]
    },
    {
      "cell_type": "markdown",
      "metadata": {
        "id": "7lFxb7yqFOCn"
      },
      "source": [
        "### Exercises 1: How many movies are listed in the moviesdata dataframe?"
      ]
    },
    {
      "cell_type": "code",
      "metadata": {
        "id": "Id6nA4idFZUH",
        "colab": {
          "base_uri": "https://localhost:8080/"
        },
        "outputId": "bad8328b-80f9-47fa-d284-6c50aefccbb6"
      },
      "source": [
        "# Your Code Here\n",
        "print(moviesdata.shape[0])"
      ],
      "execution_count": 6,
      "outputs": [
        {
          "output_type": "stream",
          "text": [
            "77\n"
          ],
          "name": "stdout"
        }
      ]
    },
    {
      "cell_type": "markdown",
      "metadata": {
        "id": "951to2E3Fzqt"
      },
      "source": [
        "### Exercises 2: How many movies were made in the year 2009?"
      ]
    },
    {
      "cell_type": "code",
      "metadata": {
        "id": "mujshh9uEgFz",
        "colab": {
          "base_uri": "https://localhost:8080/"
        },
        "outputId": "6eee3ec6-b7ce-415b-ad0a-16bee3fa0c5c"
      },
      "source": [
        "# Your Code Here\n",
        "grp = moviesdata.groupby('Year')\n",
        "print(grp.get_group(2009))"
      ],
      "execution_count": 7,
      "outputs": [
        {
          "output_type": "stream",
          "text": [
            "                           Film   Genre  ... Worldwide Gross  Year\n",
            "13               The Ugly Truth  Comedy  ...        $205.30   2009\n",
            "14  The Twilight Saga: New Moon   Drama  ...        $709.82   2009\n",
            "15     The Time Traveler's Wife   Drama  ...        $101.33   2009\n",
            "16                 The Proposal  Comedy  ...        $314.70   2009\n",
            "17       The Invention of Lying  Comedy  ...         $32.40   2009\n",
            "35            Not Easily Broken   Drama  ...         $10.70   2009\n",
            "48                 Love Happens   Drama  ...         $36.08   2009\n",
            "58             It's Complicated  Comedy  ...        $224.60   2009\n",
            "61  He's Just Not That Into You  Comedy  ...        $178.84   2009\n",
            "66   Ghosts of Girlfriends Past  Comedy  ...        $102.22   2009\n",
            "73                A Serious Man   Drama  ...         $30.68   2009\n",
            "76         (500) Days of Summer  comedy  ...         $60.72   2009\n",
            "\n",
            "[12 rows x 8 columns]\n"
          ],
          "name": "stdout"
        }
      ]
    },
    {
      "cell_type": "markdown",
      "metadata": {
        "id": "lNhxrJbhFBDC"
      },
      "source": [
        "### Exercises 3: Which year saw the most films released?"
      ]
    },
    {
      "cell_type": "code",
      "metadata": {
        "id": "hP6hZLJUSW03",
        "colab": {
          "base_uri": "https://localhost:8080/"
        },
        "outputId": "a3ae302e-223e-4d47-89a7-d275c9f581a5"
      },
      "source": [
        "moviesdata.mode()['Year'][0]"
      ],
      "execution_count": 8,
      "outputs": [
        {
          "output_type": "execute_result",
          "data": {
            "text/plain": [
              "2008.0"
            ]
          },
          "metadata": {
            "tags": []
          },
          "execution_count": 8
        }
      ]
    },
    {
      "cell_type": "markdown",
      "metadata": {
        "id": "lfA0jgISGGfx"
      },
      "source": [
        "### Exercises 4: How many movies were made from 2010 through 2011?"
      ]
    },
    {
      "cell_type": "code",
      "metadata": {
        "id": "GT87nhGUGKqs",
        "colab": {
          "base_uri": "https://localhost:8080/"
        },
        "outputId": "cbe5d22c-c4d8-410a-8198-abea19ef773a"
      },
      "source": [
        "ans  = moviesdata[moviesdata['Year'].between(2010,2011,inclusive=True)]\n",
        "print(ans)"
      ],
      "execution_count": 9,
      "outputs": [
        {
          "output_type": "stream",
          "text": [
            "                                  Film      Genre  ... Worldwide Gross  Year\n",
            "1                      Youth in Revolt     Comedy  ...         $19.62   2010\n",
            "2   You Will Meet a Tall Dark Stranger     Comedy  ...         $26.66   2010\n",
            "3                         When in Rome     Comedy  ...         $43.04   2010\n",
            "5                  Water For Elephants      Drama  ...        $117.09   2011\n",
            "8                  Waiting For Forever    Romance  ...          $0.03   2011\n",
            "9                      Valentine's Day     Comedy  ...        $217.57   2010\n",
            "11             Twilight: Breaking Dawn    Romance  ...        $702.17   2011\n",
            "21                    The Back-up Plan     Comedy  ...         $77.09   2010\n",
            "22                             Tangled  Animation  ...        $355.01   2010\n",
            "23                  Something Borrowed    Romance  ...         $60.18   2011\n",
            "24              She's Out of My League     Comedy  ...         $48.81   2010\n",
            "25                Sex and the City Two     Comedy  ...        $288.35   2010\n",
            "26                  Sex and the City 2     Comedy  ...        $288.35   2010\n",
            "28                         Remember Me      Drama  ...         $55.86   2010\n",
            "33                  Our Family Wedding     Comedy  ...         $21.37   2010\n",
            "34                             One Day    Romance  ...         $55.24   2011\n",
            "38                      New Year's Eve    Romance  ...        $142.04   2011\n",
            "39                My Week with Marilyn      Drama  ...          $8.26   2011\n",
            "41                         Monte Carlo    Romance  ...         $39.66   2011\n",
            "43                   Midnight in Paris    Romence  ...        $148.66   2011\n",
            "49                  Love & Other Drugs     Comedy  ...         $54.53   2010\n",
            "50                  Life as We Know It     Comedy  ...         $96.16   2010\n",
            "52                   Letters to Juliet     Comedy  ...         $79.18   2010\n",
            "53                           Leap Year     Comedy  ...         $32.59   2010\n",
            "55                             Killers     Action  ...         $93.40   2010\n",
            "56                         Just Wright     Comedy  ...         $21.57   2010\n",
            "57                           Jane Eyre    Romance  ...         $30.15   2011\n",
            "59           I Love You Phillip Morris     Comedy  ...         $20.10   2010\n",
            "63                  Going the Distance     Comedy  ...         $42.05   2010\n",
            "64                   Gnomeo and Juliet  Animation  ...        $193.97   2011\n",
            "65                   Gnomeo and Juliet  Animation  ...        $193.97   2011\n",
            "70                           Dear John      Drama  ...        $114.97   2010\n",
            "71                           Beginners     Comedy  ...         $14.31   2011\n",
            "74                  A Dangerous Method      Drama  ...          $8.97   2011\n",
            "\n",
            "[34 rows x 8 columns]\n"
          ],
          "name": "stdout"
        }
      ]
    },
    {
      "cell_type": "markdown",
      "metadata": {
        "id": "rERFAv1xGy4x"
      },
      "source": [
        "### Exercises 5: In Genre column, sometimes Comedy is spelled as Comdy, comedy and Romance is spelled as romance, Romence. Replace all the misspelt words with correct words"
      ]
    },
    {
      "cell_type": "code",
      "metadata": {
        "id": "8SVeciUSGyPv",
        "colab": {
          "base_uri": "https://localhost:8080/",
          "height": 419
        },
        "outputId": "6cb8a039-2e29-4831-a5be-01ca6995ace1"
      },
      "source": [
        "moviesdata['Genre'].replace({\"Comdy\":\"Comedy\",\"comedy\":\"Comedy\",\"romance\":\"Romance\",\"Romence\":\"Romance\"}, inplace=True)\n",
        "moviesdata"
      ],
      "execution_count": 10,
      "outputs": [
        {
          "output_type": "execute_result",
          "data": {
            "text/html": [
              "<div>\n",
              "<style scoped>\n",
              "    .dataframe tbody tr th:only-of-type {\n",
              "        vertical-align: middle;\n",
              "    }\n",
              "\n",
              "    .dataframe tbody tr th {\n",
              "        vertical-align: top;\n",
              "    }\n",
              "\n",
              "    .dataframe thead th {\n",
              "        text-align: right;\n",
              "    }\n",
              "</style>\n",
              "<table border=\"1\" class=\"dataframe\">\n",
              "  <thead>\n",
              "    <tr style=\"text-align: right;\">\n",
              "      <th></th>\n",
              "      <th>Film</th>\n",
              "      <th>Genre</th>\n",
              "      <th>Lead Studio</th>\n",
              "      <th>Audience score %</th>\n",
              "      <th>Profitability</th>\n",
              "      <th>Rotten Tomatoes %</th>\n",
              "      <th>Worldwide Gross</th>\n",
              "      <th>Year</th>\n",
              "    </tr>\n",
              "  </thead>\n",
              "  <tbody>\n",
              "    <tr>\n",
              "      <th>0</th>\n",
              "      <td>Zack and Miri Make a Porno</td>\n",
              "      <td>Romance</td>\n",
              "      <td>The Weinstein Company</td>\n",
              "      <td>70</td>\n",
              "      <td>1.747542</td>\n",
              "      <td>64</td>\n",
              "      <td>$41.94</td>\n",
              "      <td>2008</td>\n",
              "    </tr>\n",
              "    <tr>\n",
              "      <th>1</th>\n",
              "      <td>Youth in Revolt</td>\n",
              "      <td>Comedy</td>\n",
              "      <td>The Weinstein Company</td>\n",
              "      <td>52</td>\n",
              "      <td>1.090000</td>\n",
              "      <td>68</td>\n",
              "      <td>$19.62</td>\n",
              "      <td>2010</td>\n",
              "    </tr>\n",
              "    <tr>\n",
              "      <th>2</th>\n",
              "      <td>You Will Meet a Tall Dark Stranger</td>\n",
              "      <td>Comedy</td>\n",
              "      <td>Independent</td>\n",
              "      <td>35</td>\n",
              "      <td>1.211818</td>\n",
              "      <td>43</td>\n",
              "      <td>$26.66</td>\n",
              "      <td>2010</td>\n",
              "    </tr>\n",
              "    <tr>\n",
              "      <th>3</th>\n",
              "      <td>When in Rome</td>\n",
              "      <td>Comedy</td>\n",
              "      <td>Disney</td>\n",
              "      <td>44</td>\n",
              "      <td>0.000000</td>\n",
              "      <td>15</td>\n",
              "      <td>$43.04</td>\n",
              "      <td>2010</td>\n",
              "    </tr>\n",
              "    <tr>\n",
              "      <th>4</th>\n",
              "      <td>What Happens in Vegas</td>\n",
              "      <td>Comedy</td>\n",
              "      <td>Fox</td>\n",
              "      <td>72</td>\n",
              "      <td>6.267647</td>\n",
              "      <td>28</td>\n",
              "      <td>$219.37</td>\n",
              "      <td>2008</td>\n",
              "    </tr>\n",
              "    <tr>\n",
              "      <th>...</th>\n",
              "      <td>...</td>\n",
              "      <td>...</td>\n",
              "      <td>...</td>\n",
              "      <td>...</td>\n",
              "      <td>...</td>\n",
              "      <td>...</td>\n",
              "      <td>...</td>\n",
              "      <td>...</td>\n",
              "    </tr>\n",
              "    <tr>\n",
              "      <th>72</th>\n",
              "      <td>Across the Universe</td>\n",
              "      <td>Romance</td>\n",
              "      <td>Independent</td>\n",
              "      <td>84</td>\n",
              "      <td>0.652603</td>\n",
              "      <td>54</td>\n",
              "      <td>$29.37</td>\n",
              "      <td>2007</td>\n",
              "    </tr>\n",
              "    <tr>\n",
              "      <th>73</th>\n",
              "      <td>A Serious Man</td>\n",
              "      <td>Drama</td>\n",
              "      <td>Universal</td>\n",
              "      <td>64</td>\n",
              "      <td>4.382857</td>\n",
              "      <td>89</td>\n",
              "      <td>$30.68</td>\n",
              "      <td>2009</td>\n",
              "    </tr>\n",
              "    <tr>\n",
              "      <th>74</th>\n",
              "      <td>A Dangerous Method</td>\n",
              "      <td>Drama</td>\n",
              "      <td>Independent</td>\n",
              "      <td>89</td>\n",
              "      <td>0.448645</td>\n",
              "      <td>79</td>\n",
              "      <td>$8.97</td>\n",
              "      <td>2011</td>\n",
              "    </tr>\n",
              "    <tr>\n",
              "      <th>75</th>\n",
              "      <td>27 Dresses</td>\n",
              "      <td>Comedy</td>\n",
              "      <td>Fox</td>\n",
              "      <td>71</td>\n",
              "      <td>5.343622</td>\n",
              "      <td>40</td>\n",
              "      <td>$160.31</td>\n",
              "      <td>2008</td>\n",
              "    </tr>\n",
              "    <tr>\n",
              "      <th>76</th>\n",
              "      <td>(500) Days of Summer</td>\n",
              "      <td>Comedy</td>\n",
              "      <td>Fox</td>\n",
              "      <td>81</td>\n",
              "      <td>8.096000</td>\n",
              "      <td>87</td>\n",
              "      <td>$60.72</td>\n",
              "      <td>2009</td>\n",
              "    </tr>\n",
              "  </tbody>\n",
              "</table>\n",
              "<p>77 rows × 8 columns</p>\n",
              "</div>"
            ],
            "text/plain": [
              "                                  Film    Genre  ... Worldwide Gross  Year\n",
              "0           Zack and Miri Make a Porno  Romance  ...         $41.94   2008\n",
              "1                      Youth in Revolt   Comedy  ...         $19.62   2010\n",
              "2   You Will Meet a Tall Dark Stranger   Comedy  ...         $26.66   2010\n",
              "3                         When in Rome   Comedy  ...         $43.04   2010\n",
              "4                What Happens in Vegas   Comedy  ...        $219.37   2008\n",
              "..                                 ...      ...  ...             ...   ...\n",
              "72                 Across the Universe  Romance  ...         $29.37   2007\n",
              "73                       A Serious Man    Drama  ...         $30.68   2009\n",
              "74                  A Dangerous Method    Drama  ...          $8.97   2011\n",
              "75                          27 Dresses   Comedy  ...        $160.31   2008\n",
              "76                (500) Days of Summer   Comedy  ...         $60.72   2009\n",
              "\n",
              "[77 rows x 8 columns]"
            ]
          },
          "metadata": {
            "tags": []
          },
          "execution_count": 10
        }
      ]
    },
    {
      "cell_type": "markdown",
      "metadata": {
        "id": "XotWOMJ_IJPF"
      },
      "source": [
        "### Exercises 6: How many Comedy Genre movies has release in 2009?"
      ]
    },
    {
      "cell_type": "code",
      "metadata": {
        "id": "5uUubE70GOWL",
        "colab": {
          "base_uri": "https://localhost:8080/",
          "height": 266
        },
        "outputId": "f2228160-77ce-4ab0-b554-379a463e2b7b"
      },
      "source": [
        "res  = moviesdata[(moviesdata['Genre'] == 'Comedy')]\n",
        "res = res[(res['Year']==2009)]\n",
        "res"
      ],
      "execution_count": 11,
      "outputs": [
        {
          "output_type": "execute_result",
          "data": {
            "text/html": [
              "<div>\n",
              "<style scoped>\n",
              "    .dataframe tbody tr th:only-of-type {\n",
              "        vertical-align: middle;\n",
              "    }\n",
              "\n",
              "    .dataframe tbody tr th {\n",
              "        vertical-align: top;\n",
              "    }\n",
              "\n",
              "    .dataframe thead th {\n",
              "        text-align: right;\n",
              "    }\n",
              "</style>\n",
              "<table border=\"1\" class=\"dataframe\">\n",
              "  <thead>\n",
              "    <tr style=\"text-align: right;\">\n",
              "      <th></th>\n",
              "      <th>Film</th>\n",
              "      <th>Genre</th>\n",
              "      <th>Lead Studio</th>\n",
              "      <th>Audience score %</th>\n",
              "      <th>Profitability</th>\n",
              "      <th>Rotten Tomatoes %</th>\n",
              "      <th>Worldwide Gross</th>\n",
              "      <th>Year</th>\n",
              "    </tr>\n",
              "  </thead>\n",
              "  <tbody>\n",
              "    <tr>\n",
              "      <th>13</th>\n",
              "      <td>The Ugly Truth</td>\n",
              "      <td>Comedy</td>\n",
              "      <td>Independent</td>\n",
              "      <td>68</td>\n",
              "      <td>5.402632</td>\n",
              "      <td>14</td>\n",
              "      <td>$205.30</td>\n",
              "      <td>2009</td>\n",
              "    </tr>\n",
              "    <tr>\n",
              "      <th>16</th>\n",
              "      <td>The Proposal</td>\n",
              "      <td>Comedy</td>\n",
              "      <td>Disney</td>\n",
              "      <td>74</td>\n",
              "      <td>7.867500</td>\n",
              "      <td>43</td>\n",
              "      <td>$314.70</td>\n",
              "      <td>2009</td>\n",
              "    </tr>\n",
              "    <tr>\n",
              "      <th>17</th>\n",
              "      <td>The Invention of Lying</td>\n",
              "      <td>Comedy</td>\n",
              "      <td>Warner Bros.</td>\n",
              "      <td>47</td>\n",
              "      <td>1.751351</td>\n",
              "      <td>56</td>\n",
              "      <td>$32.40</td>\n",
              "      <td>2009</td>\n",
              "    </tr>\n",
              "    <tr>\n",
              "      <th>58</th>\n",
              "      <td>It's Complicated</td>\n",
              "      <td>Comedy</td>\n",
              "      <td>Universal</td>\n",
              "      <td>63</td>\n",
              "      <td>2.642353</td>\n",
              "      <td>56</td>\n",
              "      <td>$224.60</td>\n",
              "      <td>2009</td>\n",
              "    </tr>\n",
              "    <tr>\n",
              "      <th>61</th>\n",
              "      <td>He's Just Not That Into You</td>\n",
              "      <td>Comedy</td>\n",
              "      <td>Warner Bros.</td>\n",
              "      <td>60</td>\n",
              "      <td>7.153600</td>\n",
              "      <td>42</td>\n",
              "      <td>$178.84</td>\n",
              "      <td>2009</td>\n",
              "    </tr>\n",
              "    <tr>\n",
              "      <th>66</th>\n",
              "      <td>Ghosts of Girlfriends Past</td>\n",
              "      <td>Comedy</td>\n",
              "      <td>Warner Bros.</td>\n",
              "      <td>47</td>\n",
              "      <td>2.044400</td>\n",
              "      <td>27</td>\n",
              "      <td>$102.22</td>\n",
              "      <td>2009</td>\n",
              "    </tr>\n",
              "    <tr>\n",
              "      <th>76</th>\n",
              "      <td>(500) Days of Summer</td>\n",
              "      <td>Comedy</td>\n",
              "      <td>Fox</td>\n",
              "      <td>81</td>\n",
              "      <td>8.096000</td>\n",
              "      <td>87</td>\n",
              "      <td>$60.72</td>\n",
              "      <td>2009</td>\n",
              "    </tr>\n",
              "  </tbody>\n",
              "</table>\n",
              "</div>"
            ],
            "text/plain": [
              "                           Film   Genre  ... Worldwide Gross  Year\n",
              "13               The Ugly Truth  Comedy  ...        $205.30   2009\n",
              "16                 The Proposal  Comedy  ...        $314.70   2009\n",
              "17       The Invention of Lying  Comedy  ...         $32.40   2009\n",
              "58             It's Complicated  Comedy  ...        $224.60   2009\n",
              "61  He's Just Not That Into You  Comedy  ...        $178.84   2009\n",
              "66   Ghosts of Girlfriends Past  Comedy  ...        $102.22   2009\n",
              "76         (500) Days of Summer  Comedy  ...         $60.72   2009\n",
              "\n",
              "[7 rows x 8 columns]"
            ]
          },
          "metadata": {
            "tags": []
          },
          "execution_count": 11
        }
      ]
    },
    {
      "cell_type": "markdown",
      "metadata": {
        "id": "j-zcJYfdPiG3"
      },
      "source": [
        "### Exercises 7: Which year as the most number of Romance Genre Movies releases?"
      ]
    },
    {
      "cell_type": "code",
      "metadata": {
        "id": "28nVARnJIdnJ",
        "colab": {
          "base_uri": "https://localhost:8080/"
        },
        "outputId": "da9ec70e-ad18-4580-8347-764b635ee94f"
      },
      "source": [
        "Romance_genre = moviesdata[(moviesdata['Genre'] == 'Romance')]\n",
        "val = Romance_genre['Year'].mode()\n",
        "val[0]"
      ],
      "execution_count": 12,
      "outputs": [
        {
          "output_type": "execute_result",
          "data": {
            "text/plain": [
              "2011"
            ]
          },
          "metadata": {
            "tags": []
          },
          "execution_count": 12
        }
      ]
    },
    {
      "cell_type": "markdown",
      "metadata": {
        "id": "QxEtNLKoQGKq"
      },
      "source": [
        "### Exercises 8: How many films are made by Sony Lead Studio?"
      ]
    },
    {
      "cell_type": "code",
      "metadata": {
        "id": "def6pUxHPxd-",
        "colab": {
          "base_uri": "https://localhost:8080/"
        },
        "outputId": "fe8ffe7c-64a1-49ea-b2e1-46ecc0359cf8"
      },
      "source": [
        "ans = moviesdata['Lead Studio'] == 'Sony Lead Studio'\n",
        "ans"
      ],
      "execution_count": 13,
      "outputs": [
        {
          "output_type": "execute_result",
          "data": {
            "text/plain": [
              "0     False\n",
              "1     False\n",
              "2     False\n",
              "3     False\n",
              "4     False\n",
              "      ...  \n",
              "72    False\n",
              "73    False\n",
              "74    False\n",
              "75    False\n",
              "76    False\n",
              "Name: Lead Studio, Length: 77, dtype: bool"
            ]
          },
          "metadata": {
            "tags": []
          },
          "execution_count": 13
        }
      ]
    },
    {
      "cell_type": "markdown",
      "metadata": {
        "id": "3uU00yjHQ7xC"
      },
      "source": [
        "### Exercises 9: How many films are having Audience score less than 50 %?"
      ]
    },
    {
      "cell_type": "code",
      "metadata": {
        "id": "f6KNkSfGP_8o",
        "colab": {
          "base_uri": "https://localhost:8080/"
        },
        "outputId": "598e3ac8-9143-407a-9a30-49b23fd2d5f6"
      },
      "source": [
        "d = moviesdata['Audience score %'] < 50\n",
        "print(d)"
      ],
      "execution_count": 14,
      "outputs": [
        {
          "output_type": "stream",
          "text": [
            "0     False\n",
            "1     False\n",
            "2      True\n",
            "3      True\n",
            "4     False\n",
            "      ...  \n",
            "72    False\n",
            "73    False\n",
            "74    False\n",
            "75    False\n",
            "76    False\n",
            "Name: Audience score %, Length: 77, dtype: bool\n"
          ],
          "name": "stdout"
        }
      ]
    },
    {
      "cell_type": "markdown",
      "metadata": {
        "id": "gsOE9jyoRUuD"
      },
      "source": [
        "### Exercises 10: Display all the movies done by Universal Lead Studio?"
      ]
    },
    {
      "cell_type": "code",
      "metadata": {
        "id": "Dqd4XTCLRLh9",
        "colab": {
          "base_uri": "https://localhost:8080/"
        },
        "outputId": "39f4e6bb-823f-47ef-a867-785d47de4c5e"
      },
      "source": [
        "result = moviesdata[moviesdata['Lead Studio'] == 'Universal']\n",
        "print(result)\n",
        "print(result.info())"
      ],
      "execution_count": 15,
      "outputs": [
        {
          "output_type": "stream",
          "text": [
            "                Film    Genre  ... Worldwide Gross  Year\n",
            "45        Mamma Mia!   Comedy  ...        $609.47   2008\n",
            "46        Mamma Mia!   Comedy  ...        $609.47   2008\n",
            "48      Love Happens    Drama  ...         $36.08   2009\n",
            "53         Leap Year   Comedy  ...         $32.59   2010\n",
            "54        Knocked Up   Comedy  ...           $219   2007\n",
            "57         Jane Eyre  Romance  ...         $30.15   2011\n",
            "58  It's Complicated   Comedy  ...        $224.60   2009\n",
            "73     A Serious Man    Drama  ...         $30.68   2009\n",
            "\n",
            "[8 rows x 8 columns]\n",
            "<class 'pandas.core.frame.DataFrame'>\n",
            "Int64Index: 8 entries, 45 to 73\n",
            "Data columns (total 8 columns):\n",
            " #   Column             Non-Null Count  Dtype  \n",
            "---  ------             --------------  -----  \n",
            " 0   Film               8 non-null      object \n",
            " 1   Genre              8 non-null      object \n",
            " 2   Lead Studio        8 non-null      object \n",
            " 3   Audience score %   8 non-null      int64  \n",
            " 4   Profitability      8 non-null      float64\n",
            " 5   Rotten Tomatoes %  8 non-null      int64  \n",
            " 6   Worldwide Gross    8 non-null      object \n",
            " 7   Year               8 non-null      int64  \n",
            "dtypes: float64(1), int64(3), object(4)\n",
            "memory usage: 576.0+ bytes\n",
            "None\n"
          ],
          "name": "stdout"
        }
      ]
    }
  ]
}